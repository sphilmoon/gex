{
 "cells": [
  {
   "cell_type": "code",
   "execution_count": 2,
   "id": "bulgarian-binary",
   "metadata": {},
   "outputs": [],
   "source": [
    "library(SoupX)\n",
    "library(ggplot2)\n",
    "library(SingleR)\n",
    "library(celldex)\n",
    "library(Seurat)\n",
    "library(SummarizedExperiment)\n",
    "library(org.Mm.eg.db)\n",
    "library(dplyr)\n",
    "library(SingleCellExperiment)\n",
    "\n",
    "#Load annotated rds file\n",
    "pbmc <- readRDS(file = \"/home/phil/integrated_brucei/tcell_annotated.rds\")"
   ]
  },
  {
   "cell_type": "code",
   "execution_count": 3,
   "id": "fifth-fifteen",
   "metadata": {},
   "outputs": [
    {
     "ename": "ERROR",
     "evalue": "Error in WhichCells.Seurat(object = x, cells = cells, idents = idents, : Cannot find the following identities in the object: T cells (T.4MEM49D+11A+.D30.LCMV)T cells (T.CD4TESTCJ)T cells (T.4EFF49D+11A+.D8.LCMV)T cells (T.4MEM44H62L)T cells (T.4MEM)T cells (T.CD4.96H)T cells (T.CD4.48H)T cells (T.CD4TESTJS)T cells (T.4Mem)T cells (T.4MEM49D+11A+.D30.LCMV)T cells (T.CD4.5H)T cells (T.4NVE44-49D-11A-)T cells (T.4SP24-)T cells (T.CD4.24H)T cells (T.4Nve)T cells (T.4NVE)T cells (T.CD4.CTR)T cells (T.CD4CONTROL)T cells (T.4.PLN)T cells (T.4.Pa)T cells (T.4FP3+25+)\n",
     "output_type": "error",
     "traceback": [
      "Error in WhichCells.Seurat(object = x, cells = cells, idents = idents, : Cannot find the following identities in the object: T cells (T.4MEM49D+11A+.D30.LCMV)T cells (T.CD4TESTCJ)T cells (T.4EFF49D+11A+.D8.LCMV)T cells (T.4MEM44H62L)T cells (T.4MEM)T cells (T.CD4.96H)T cells (T.CD4.48H)T cells (T.CD4TESTJS)T cells (T.4Mem)T cells (T.4MEM49D+11A+.D30.LCMV)T cells (T.CD4.5H)T cells (T.4NVE44-49D-11A-)T cells (T.4SP24-)T cells (T.CD4.24H)T cells (T.4Nve)T cells (T.4NVE)T cells (T.CD4.CTR)T cells (T.CD4CONTROL)T cells (T.4.PLN)T cells (T.4.Pa)T cells (T.4FP3+25+)\nTraceback:\n",
      "1. subset((T_cells_1st), idents = c(\"T cells (T.4MEM49D+11A+.D30.LCMV)\", \n .     \"T cells (T.CD4TESTCJ)\", \"T cells (T.4EFF49D+11A+.D8.LCMV)\", \n .     \"T cells (T.4MEM44H62L)\", \"T cells (T.4MEM)\", \"T cells (T.CD4.96H)\", \n .     \"T cells (T.CD4.48H)\", \"T cells (T.CD4TESTJS)\", \"T cells (T.4Mem)\", \n .     \"T cells (T.4MEM49D+11A+.D30.LCMV)\", \"T cells (T.CD4.5H)\", \n .     \"T cells (T.4NVE44-49D-11A-)\", \"T cells (T.4SP24-)\", \"T cells (T.CD4.24H)\", \n .     \"T cells (T.4Nve)\", \"T cells (T.4NVE)\", \"T cells (T.CD4.CTR)\", \n .     \"T cells (T.CD4CONTROL)\", \"T cells (T.4.PLN)\", \"T cells (T.4.Pa)\", \n .     \"T cells (T.4FP3+25+)\"))",
      "2. subset((T_cells_1st), idents = c(\"T cells (T.4MEM49D+11A+.D30.LCMV)\", \n .     \"T cells (T.CD4TESTCJ)\", \"T cells (T.4EFF49D+11A+.D8.LCMV)\", \n .     \"T cells (T.4MEM44H62L)\", \"T cells (T.4MEM)\", \"T cells (T.CD4.96H)\", \n .     \"T cells (T.CD4.48H)\", \"T cells (T.CD4TESTJS)\", \"T cells (T.4Mem)\", \n .     \"T cells (T.4MEM49D+11A+.D30.LCMV)\", \"T cells (T.CD4.5H)\", \n .     \"T cells (T.4NVE44-49D-11A-)\", \"T cells (T.4SP24-)\", \"T cells (T.CD4.24H)\", \n .     \"T cells (T.4Nve)\", \"T cells (T.4NVE)\", \"T cells (T.CD4.CTR)\", \n .     \"T cells (T.CD4CONTROL)\", \"T cells (T.4.PLN)\", \"T cells (T.4.Pa)\", \n .     \"T cells (T.4FP3+25+)\"))",
      "3. subset.Seurat((T_cells_1st), idents = c(\"T cells (T.4MEM49D+11A+.D30.LCMV)\", \n .     \"T cells (T.CD4TESTCJ)\", \"T cells (T.4EFF49D+11A+.D8.LCMV)\", \n .     \"T cells (T.4MEM44H62L)\", \"T cells (T.4MEM)\", \"T cells (T.CD4.96H)\", \n .     \"T cells (T.CD4.48H)\", \"T cells (T.CD4TESTJS)\", \"T cells (T.4Mem)\", \n .     \"T cells (T.4MEM49D+11A+.D30.LCMV)\", \"T cells (T.CD4.5H)\", \n .     \"T cells (T.4NVE44-49D-11A-)\", \"T cells (T.4SP24-)\", \"T cells (T.CD4.24H)\", \n .     \"T cells (T.4Nve)\", \"T cells (T.4NVE)\", \"T cells (T.CD4.CTR)\", \n .     \"T cells (T.CD4CONTROL)\", \"T cells (T.4.PLN)\", \"T cells (T.4.Pa)\", \n .     \"T cells (T.4FP3+25+)\"))",
      "4. WhichCells(object = x, cells = cells, idents = idents, expression = subset, \n .     return.null = TRUE, ...)",
      "5. WhichCells.Seurat(object = x, cells = cells, idents = idents, \n .     expression = subset, return.null = TRUE, ...)",
      "6. stop(\"Cannot find the following identities in the object: \", \n .     paste(idents[!idents %in% levels(x = Idents(object = object))], \n .         sep = \", \"))"
     ]
    }
   ],
   "source": [
    "# Type all the fine labels manually\n",
    "# Is there other way to list these columns???\n",
    "T_cell_subset <- subset((T_cells_1st), idents = c(\"T cells (T.4MEM49D+11A+.D30.LCMV)\", \"T cells (T.CD4TESTCJ)\", \n",
    "                                                  \"T cells (T.4EFF49D+11A+.D8.LCMV)\", \"T cells (T.4MEM44H62L)\", \"T cells (T.4MEM)\",\n",
    "                                                  \"T cells (T.CD4.96H)\", \"T cells (T.CD4.48H)\", \n",
    "                                                  \"T cells (T.CD4TESTJS)\", \"T cells (T.4Mem)\", \"T cells (T.4MEM49D+11A+.D30.LCMV)\",\n",
    "                                                  \"T cells (T.CD4.5H)\", \"T cells (T.4NVE44-49D-11A-)\", \"T cells (T.4SP24-)\",\n",
    "                                                  \"T cells (T.CD4.24H)\", \"T cells (T.4Nve)\", \"T cells (T.4NVE)\", \n",
    "                                                  \"T cells (T.CD4.CTR)\", \"T cells (T.CD4CONTROL)\",\n",
    "                                                  \"T cells (T.4.PLN)\", \"T cells (T.4.Pa)\", \"T cells (T.4FP3+25+)\"))"
   ]
  },
  {
   "cell_type": "code",
   "execution_count": null,
   "id": "sized-michael",
   "metadata": {},
   "outputs": [],
   "source": []
  }
 ],
 "metadata": {
  "kernelspec": {
   "display_name": "R",
   "language": "R",
   "name": "ir"
  },
  "language_info": {
   "codemirror_mode": "r",
   "file_extension": ".r",
   "mimetype": "text/x-r-source",
   "name": "R",
   "pygments_lexer": "r",
   "version": "4.0.3"
  }
 },
 "nbformat": 4,
 "nbformat_minor": 5
}
